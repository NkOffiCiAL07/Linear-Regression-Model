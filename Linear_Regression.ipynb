{
  "nbformat": 4,
  "nbformat_minor": 0,
  "metadata": {
    "colab": {
      "name": "Linear Regression.ipynb",
      "provenance": [],
      "collapsed_sections": []
    },
    "kernelspec": {
      "name": "python3",
      "display_name": "Python 3"
    },
    "language_info": {
      "name": "python"
    }
  },
  "cells": [
    {
      "cell_type": "markdown",
      "metadata": {
        "id": "nAtAELbrwMcF"
      },
      "source": [
        "**Project Description :-**\n",
        "\n",
        "This project is about prediction of yearly amount spent by customer on any fashion e-commerce startup based on data given such as time spent on website, duration of membership, time spent on app, session duration."
      ]
    },
    {
      "cell_type": "code",
      "metadata": {
        "id": "b8SN3hPvL7Ev"
      },
      "source": [
        "from sklearn.model_selection import train_test_split\n",
        "from sklearn.metrics import mean_squared_error\n",
        "import matplotlib.pyplot as plt\n",
        "import numpy as np\n",
        "import pandas as pd"
      ],
      "execution_count": null,
      "outputs": []
    },
    {
      "cell_type": "code",
      "metadata": {
        "id": "ZhYhV7ZnZEez"
      },
      "source": [
        "X = np.genfromtxt(\"train_X_lr.csv\", delimiter=',', dtype=np.float64, skip_header=1)\n",
        "Y = np.genfromtxt(\"train_Y_lr.csv\", delimiter=',', dtype=np.float64)"
      ],
      "execution_count": 189,
      "outputs": []
    },
    {
      "cell_type": "code",
      "metadata": {
        "id": "nmjUn2h01Dkj"
      },
      "source": [
        "X = np.insert(X, 0, 1, axis=1)\n",
        "X_train, X_test, Y_train, Y_test = train_test_split(X, Y, train_size=0.7, random_state=1)"
      ],
      "execution_count": 277,
      "outputs": []
    },
    {
      "cell_type": "code",
      "metadata": {
        "id": "jCQef4sWhO-m"
      },
      "source": [
        "def cost_function(X, Y, W):\n",
        "    m = (len(X))\n",
        "    Y_pred = np.dot(X, W)\n",
        "    difference = Y_pred - Y\n",
        "    cost = (1/(2*m))*(np.sum(np.square(difference)))\n",
        "    return cost"
      ],
      "execution_count": 278,
      "outputs": []
    },
    {
      "cell_type": "code",
      "metadata": {
        "id": "Fm7hwP-DaCJL"
      },
      "source": [
        "def compute_gradient_of_cost_function(X, Y, W):\n",
        "    Y_pred = np.dot(X, W)\n",
        "    difference = Y_pred - Y\n",
        "    dw = (1/len(X))*(np.dot(difference.T, X))\n",
        "    dw = dw.T\n",
        "    return dw"
      ],
      "execution_count": 279,
      "outputs": []
    },
    {
      "cell_type": "code",
      "metadata": {
        "id": "XfYoKvADaCGa"
      },
      "source": [
        "def optimize_weight_using_gradient_descent(X, Y, W, learning_rate, cost_values, Iterations):\n",
        "    Threshold = 0.01\n",
        "    for i in range(1, 10**8):\n",
        "        dw = compute_gradient_of_cost_function(X, Y, W)\n",
        "        W = W - (learning_rate*dw)\n",
        "        if ((i%5000) == 0):\n",
        "          cost = cost_function(X, Y, W)\n",
        "          cost_values.append(cost)\n",
        "          Iterations.append(i)\n",
        "    return W, cost_values, Iterations"
      ],
      "execution_count": 280,
      "outputs": []
    },
    {
      "cell_type": "code",
      "metadata": {
        "id": "yVnFyA7FaCDd"
      },
      "source": [
        "def train_model(X, Y, cost_values, Iterations):\n",
        "    Y = Y.reshape(len(X), 1)\n",
        "    W = np.zeros((X.shape[1], 1))\n",
        "    W, cost_values, Iterations = optimize_weight_using_gradient_descent(X, Y, W, 0.0001, cost_values, Iterations)\n",
        "    return W, cost_values, Iterations"
      ],
      "execution_count": 281,
      "outputs": []
    },
    {
      "cell_type": "code",
      "metadata": {
        "colab": {
          "base_uri": "https://localhost:8080/"
        },
        "id": "q0jI0s5-aCAq",
        "outputId": "60a64f4c-054d-4526-ffc5-aa5a42df54f7"
      },
      "source": [
        "cost_values = list()\n",
        "Iterations = list()\n",
        "weights, cost, Iter = train_model(X_train, Y_train, cost_values, Iterations)\n",
        "weights"
      ],
      "execution_count": 282,
      "outputs": [
        {
          "output_type": "execute_result",
          "data": {
            "text/plain": [
              "array([[-1.81697108e+03],\n",
              "       [-1.81697108e+03],\n",
              "       [ 1.24885404e+00],\n",
              "       [ 6.80611286e+01],\n",
              "       [ 4.14509350e+01],\n",
              "       [ 2.77587150e+01]])"
            ]
          },
          "metadata": {
            "tags": []
          },
          "execution_count": 282
        }
      ]
    },
    {
      "cell_type": "code",
      "metadata": {
        "colab": {
          "base_uri": "https://localhost:8080/",
          "height": 307
        },
        "id": "6DpohYWVaB4q",
        "outputId": "922fa4d9-cbe2-45f7-ea44-ffb4540d83bc"
      },
      "source": [
        "plt.plot(cost, Iter)\n",
        "plt.xlabel('Number of iteration')\n",
        "plt.ylabel('Cost Value')"
      ],
      "execution_count": 290,
      "outputs": [
        {
          "output_type": "execute_result",
          "data": {
            "text/plain": [
              "Text(0, 0.5, 'Cost Value')"
            ]
          },
          "metadata": {
            "tags": []
          },
          "execution_count": 290
        },
        {
          "output_type": "display_data",
          "data": {
            "image/png": "[encoded data removed]",
            "text/plain": [
              "<Figure size 432x288 with 1 Axes>"
            ]
          },
          "metadata": {
            "tags": [],
            "needs_background": "light"
          }
        }
      ]
    },
    {
      "cell_type": "markdown",
      "metadata": {
        "id": "DD-73ERz0uVC"
      },
      "source": [
        "Validation of model based on MSE Value of test sets of data. "
      ]
    },
    {
      "cell_type": "code",
      "metadata": {
        "id": "ncDPZbPm0tAF"
      },
      "source": [
        "def predict_target_values(X_test, weights):\n",
        "    pred_y = np.dot(X_test, weights)\n",
        "    return pred_y"
      ],
      "execution_count": 284,
      "outputs": []
    },
    {
      "cell_type": "code",
      "metadata": {
        "id": "_qtr2UUnD0E4"
      },
      "source": [
        "pred = predict_target_values(X_test, weights)"
      ],
      "execution_count": 295,
      "outputs": []
    },
    {
      "cell_type": "code",
      "metadata": {
        "colab": {
          "base_uri": "https://localhost:8080/"
        },
        "id": "-M7zviF47jlz",
        "outputId": "638c73d5-180f-4775-a4e8-2de3eda92c9a"
      },
      "source": [
        "m = len(Y_test)\n",
        "diff = pred.reshape(1, m)[0] - Y_test\n",
        "MSE = (1/(2*m))*(np.sum(np.square(diff)))\n",
        "MSE"
      ],
      "execution_count": 300,
      "outputs": [
        {
          "output_type": "execute_result",
          "data": {
            "text/plain": [
              "123.09912263222407"
            ]
          },
          "metadata": {
            "tags": []
          },
          "execution_count": 300
        }
      ]
    }
  ]
}